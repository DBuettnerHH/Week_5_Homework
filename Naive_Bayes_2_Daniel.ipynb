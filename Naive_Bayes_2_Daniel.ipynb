{
 "cells": [
  {
   "cell_type": "markdown",
   "metadata": {},
   "source": [
    "# Naive Bayes:\n",
    "https://machinelearningmastery.com/classification-as-conditional-probability-and-the-naive-bayes-algorithm/"
   ]
  },
  {
   "cell_type": "code",
   "execution_count": 38,
   "metadata": {},
   "outputs": [
    {
     "name": "stdout",
     "output_type": "stream",
     "text": [
      "(100, 2) (100,)\n",
      "[[-0.79415228  2.10495117]\n",
      " [-9.15155186 -4.81286449]\n",
      " [-3.10367371  3.90202401]\n",
      " [-1.42946517  5.16850105]\n",
      " [-7.4693868  -4.20198333]]\n",
      "[0 1 0 0 1]\n"
     ]
    }
   ],
   "source": [
    "# example of generating a small classification dataset\n",
    "import numpy as np\n",
    "import pandas as pd\n",
    "from scipy.stats import norm\n",
    "from sklearn.datasets.samples_generator import make_blobs\n",
    "# generate 2d classification dataset\n",
    "X, y = make_blobs(n_samples=100, centers=2, n_features=2, random_state=1)\n",
    "#X, y = make_blobs(n_samples=100, centers=3, n_features=3, random_state=1)\n",
    "# summarize\n",
    "print(X.shape, y.shape)\n",
    "print(X[:5])\n",
    "print(y[:5])"
   ]
  },
  {
   "cell_type": "code",
   "execution_count": 41,
   "metadata": {},
   "outputs": [],
   "source": [
    "# fit a probability distribution to a univariate data sample\n",
    "def fit_distribution(data):\n",
    "    # estimate parameters\n",
    "    mu = np.mean(data)\n",
    "    sigma = np.std(data)\n",
    "    print(mu, sigma)\n",
    "    # fit distribution\n",
    "    dist = norm(mu, sigma)\n",
    "    return dist"
   ]
  },
  {
   "cell_type": "code",
   "execution_count": 68,
   "metadata": {},
   "outputs": [
    {
     "name": "stdout",
     "output_type": "stream",
     "text": [
      "(50, 2) (50, 2)\n"
     ]
    }
   ],
   "source": [
    "# sort data into classes\n",
    "Xy0 = X[y == 0]\n",
    "Xy1 = X[y == 1]\n",
    "#Xy2 = X[y == 2]\n",
    "print(Xy0.shape, Xy1.shape)\n",
    "#print(Xy0.shape, Xy1.shape, Xy2.shape)"
   ]
  },
  {
   "cell_type": "code",
   "execution_count": 69,
   "metadata": {},
   "outputs": [
    {
     "data": {
      "text/plain": [
       "array([[-0.79415228,  2.10495117],\n",
       "       [-3.10367371,  3.90202401],\n",
       "       [-1.42946517,  5.16850105],\n",
       "       [-2.76017908,  5.55121358],\n",
       "       [-1.17104176,  4.33091816]])"
      ]
     },
     "execution_count": 69,
     "metadata": {},
     "output_type": "execute_result"
    }
   ],
   "source": [
    "Xy0[:5]"
   ]
  },
  {
   "cell_type": "code",
   "execution_count": 70,
   "metadata": {},
   "outputs": [
    {
     "name": "stdout",
     "output_type": "stream",
     "text": [
      "0.5 0.5\n"
     ]
    }
   ],
   "source": [
    "# calculate priors\n",
    "priory0 = len(Xy0) / len(X)\n",
    "priory1 = len(Xy1) / len(X)\n",
    "print(priory0, priory1)"
   ]
  },
  {
   "cell_type": "code",
   "execution_count": 71,
   "metadata": {},
   "outputs": [
    {
     "name": "stdout",
     "output_type": "stream",
     "text": [
      "-1.5632888906409914 0.787444265443213\n",
      "4.426680361487157 0.958296071258367\n",
      "-9.681177100524485 0.8943078901048118\n",
      "-3.9713794295185845 0.9308177595208521\n"
     ]
    }
   ],
   "source": [
    "# create PDFs for y==0\n",
    "distX1y0 = fit_distribution(Xy0[:, 0])\n",
    "distX2y0 = fit_distribution(Xy0[:, 1])\n",
    "# create PDFs for y==1\n",
    "distX1y1 = fit_distribution(Xy1[:, 0])\n",
    "distX2y1 = fit_distribution(Xy1[:, 1])"
   ]
  },
  {
   "cell_type": "code",
   "execution_count": 45,
   "metadata": {},
   "outputs": [],
   "source": [
    "# calculate the independent conditional probability\n",
    "def probability(X, prior, dist1, dist2):\n",
    "    return prior * dist1.pdf(X[0]) * dist2.pdf(X[1])"
   ]
  },
  {
   "cell_type": "code",
   "execution_count": 76,
   "metadata": {},
   "outputs": [
    {
     "name": "stdout",
     "output_type": "stream",
     "text": [
      "P(y=0 | [-0.79415228  2.10495117]) = 0.348\n",
      "P(y=1 | [-0.79415228  2.10495117]) = 0.000\n",
      "Truth: y=0\n"
     ]
    }
   ],
   "source": [
    "# classify one example\n",
    "Xsample, ysample = X[0], y[0]\n",
    "\n",
    "py0 = probability(Xsample, priory0, distX1y0, distX2y0)\n",
    "py1 = probability(Xsample, priory1, distX1y1, distX2y1)\n",
    "print('P(y=0 | %s) = %.3f' % (Xsample, py0*100))\n",
    "print('P(y=1 | %s) = %.3f' % (Xsample, py1*100))\n",
    "print('Truth: y=%d' % ysample)"
   ]
  },
  {
   "cell_type": "code",
   "execution_count": 77,
   "metadata": {},
   "outputs": [
    {
     "name": "stdout",
     "output_type": "stream",
     "text": [
      "0.5615453178620351\n",
      "3.964526858439656e-33\n",
      "P(y=0 | [-0.5, 2.5]) = 0.562\n",
      "P(y=1 | [-0.5, 2.5]) = 0.000\n"
     ]
    }
   ],
   "source": [
    "# classify second example:\n",
    "Xsample2 = [-0.5, 2.5]\n",
    "print(0.5*distX1y0.pdf(-0.5)*distX2y0.pdf(2.5)*100)\n",
    "print(0.5*distX1y1.pdf(-0.5)*distX2y1.pdf(2.5)*100)\n",
    "\n",
    "py0 = probability(Xsample2, priory0, distX1y0, distX2y0)\n",
    "py1 = probability(Xsample2, priory1, distX1y1, distX2y1)\n",
    "print('P(y=0 | %s) = %.3f' % (Xsample2, py0*100))\n",
    "print('P(y=1 | %s) = %.3f' % (Xsample2, py1*100))\n",
    "#print('Truth: y=%d' % ysample)"
   ]
  },
  {
   "cell_type": "code",
   "execution_count": 79,
   "metadata": {},
   "outputs": [
    {
     "name": "stdout",
     "output_type": "stream",
     "text": [
      "5.592883203699416e-24\n",
      "0.17340028597761695\n",
      "P(y=0 | [-8.0, -2.0]) = 0.000\n",
      "P(y=1 | [-8.0, -2.0]) = 0.173\n"
     ]
    }
   ],
   "source": [
    "# classify third example:\n",
    "Xsample3 = [-8.0, -2.0]\n",
    "print(0.5*distX1y0.pdf(-8.0)*distX2y0.pdf(-2.0)*100)\n",
    "print(0.5*distX1y1.pdf(-8.0)*distX2y1.pdf(-2.0)*100)\n",
    "\n",
    "py0 = probability(Xsample3, priory0, distX1y0, distX2y0)\n",
    "py1 = probability(Xsample3, priory1, distX1y1, distX2y1)\n",
    "print('P(y=0 | %s) = %.3f' % (Xsample3, py0*100))\n",
    "print('P(y=1 | %s) = %.3f' % (Xsample3, py1*100))\n",
    "#print('Truth: y=%d' % ysample)"
   ]
  },
  {
   "cell_type": "code",
   "execution_count": 91,
   "metadata": {},
   "outputs": [
    {
     "name": "stdout",
     "output_type": "stream",
     "text": [
      "Predicted Probabilities:  [[1.00000000e+00 5.52387327e-30]]\n",
      "Predicted Class:  [0]\n",
      "Truth: y=0\n"
     ]
    }
   ],
   "source": [
    "# example of gaussian naive bayes\n",
    "from sklearn.datasets.samples_generator import make_blobs\n",
    "from sklearn.naive_bayes import GaussianNB\n",
    "\n",
    "# generate 2d classification dataset\n",
    "X, y = make_blobs(n_samples=100, centers=2, n_features=2, random_state=1)\n",
    "\n",
    "# define the model\n",
    "model = GaussianNB()\n",
    "\n",
    "# fit the model\n",
    "model.fit(X, y)\n",
    "\n",
    "# select a single sample\n",
    "Xsample, ysample = [X[0]], y[0]\n",
    "#print([X[0]])\n",
    "\n",
    "# make a probabilistic prediction\n",
    "yhat_prob = model.predict_proba(Xsample)\n",
    "print('Predicted Probabilities: ', yhat_prob)\n",
    "\n",
    "# make a classification prediction\n",
    "yhat_class = model.predict(Xsample)\n",
    "print('Predicted Class: ', yhat_class)\n",
    "print('Truth: y=%d' % ysample)"
   ]
  },
  {
   "cell_type": "code",
   "execution_count": null,
   "metadata": {},
   "outputs": [],
   "source": []
  },
  {
   "cell_type": "code",
   "execution_count": 92,
   "metadata": {},
   "outputs": [
    {
     "name": "stdout",
     "output_type": "stream",
     "text": [
      "Predicted Probabilities:  [[1.00000000e+00 7.06004193e-33]]\n",
      "Predicted Class:  [0]\n"
     ]
    }
   ],
   "source": [
    "# prediction for second sample:\n",
    "Xsample2 = [[-0.5, 2.5]]\n",
    "yhat_prob2 = model.predict_proba(Xsample2)\n",
    "print('Predicted Probabilities: ', yhat_prob2)\n",
    "yhat_class2 = model.predict(Xsample2)\n",
    "print('Predicted Class: ', yhat_class2)"
   ]
  },
  {
   "cell_type": "code",
   "execution_count": 93,
   "metadata": {},
   "outputs": [
    {
     "name": "stdout",
     "output_type": "stream",
     "text": [
      "Predicted Probabilities:  [[3.22542191e-23 1.00000000e+00]]\n",
      "Predicted Class:  [1]\n"
     ]
    }
   ],
   "source": [
    "# prediction for third sample:\n",
    "Xsample3 = [[-8.0, -2.0]]\n",
    "yhat_prob3 = model.predict_proba(Xsample3)\n",
    "print('Predicted Probabilities: ', yhat_prob3)\n",
    "yhat_class3 = model.predict(Xsample3)\n",
    "print('Predicted Class: ', yhat_class3)"
   ]
  },
  {
   "cell_type": "code",
   "execution_count": null,
   "metadata": {},
   "outputs": [],
   "source": []
  }
 ],
 "metadata": {
  "kernelspec": {
   "display_name": "Python [conda env:nf] *",
   "language": "python",
   "name": "conda-env-nf-py"
  },
  "language_info": {
   "codemirror_mode": {
    "name": "ipython",
    "version": 3
   },
   "file_extension": ".py",
   "mimetype": "text/x-python",
   "name": "python",
   "nbconvert_exporter": "python",
   "pygments_lexer": "ipython3",
   "version": "3.6.6"
  }
 },
 "nbformat": 4,
 "nbformat_minor": 2
}
